{
 "cells": [
  {
   "cell_type": "code",
   "execution_count": 1,
   "metadata": {},
   "outputs": [],
   "source": [
    "from keras.models import load_model\n",
    "import pandas as pd\n",
    "import numpy as np\n",
    "from PIL import Image,ImageOps\n",
    "import CharacterSegmentation as cs\n",
    "import matplotlib.pyplot as plt\n",
    "from matplotlib.pyplot import figure\n",
    "import os"
   ]
  },
  {
   "cell_type": "code",
   "execution_count": null,
   "metadata": {},
   "outputs": [
    {
     "ename": "",
     "evalue": "",
     "output_type": "error",
     "traceback": [
      "\u001b[1;31mFailed to start the Kernel. \n",
      "\u001b[1;31mUnable to start Kernel 'erm (Python 3.8.15)' due to connection timeout. \n",
      "\u001b[1;31mView Jupyter <a href='command:jupyter.viewOutput'>log</a> for further details."
     ]
    }
   ],
   "source": [
    "INPUT_IMAGE = './input/input_1.jpeg'\n",
    "SEGMENTED_OUTPUT_DIR = './segmented/'\n",
    "EMNIST_PATH = './data/'\n",
    "MODEL_PATH = './model/alphanum_model_binary_ex_88.h5'\n",
    "mapping_processed = EMNIST_PATH + 'processed-mapping.csv'"
   ]
  },
  {
   "cell_type": "markdown",
   "metadata": {},
   "source": [
    "## Character Segmentation"
   ]
  },
  {
   "cell_type": "code",
   "execution_count": null,
   "metadata": {},
   "outputs": [
    {
     "ename": "",
     "evalue": "",
     "output_type": "error",
     "traceback": [
      "\u001b[1;31mFailed to start the Kernel. \n",
      "\u001b[1;31mUnable to start Kernel 'erm (Python 3.8.15)' due to connection timeout. \n",
      "\u001b[1;31mView Jupyter <a href='command:jupyter.viewOutput'>log</a> for further details."
     ]
    }
   ],
   "source": [
    "img = Image.open(INPUT_IMAGE)\n",
    "plt.imshow(img)"
   ]
  },
  {
   "cell_type": "code",
   "execution_count": null,
   "metadata": {},
   "outputs": [
    {
     "ename": "",
     "evalue": "",
     "output_type": "error",
     "traceback": [
      "\u001b[1;31mFailed to start the Kernel. \n",
      "\u001b[1;31mUnable to start Kernel 'erm (Python 3.8.15)' due to connection timeout. \n",
      "\u001b[1;31mView Jupyter <a href='command:jupyter.viewOutput'>log</a> for further details."
     ]
    }
   ],
   "source": [
    "cs.image_segmentation(INPUT_IMAGE)"
   ]
  },
  {
   "cell_type": "code",
   "execution_count": null,
   "metadata": {},
   "outputs": [
    {
     "ename": "",
     "evalue": "",
     "output_type": "error",
     "traceback": [
      "\u001b[1;31mFailed to start the Kernel. \n",
      "\u001b[1;31mUnable to start Kernel 'erm (Python 3.8.15)' due to connection timeout. \n",
      "\u001b[1;31mView Jupyter <a href='command:jupyter.viewOutput'>log</a> for further details."
     ]
    }
   ],
   "source": [
    "segmented_images = []\n",
    "files = [f for r, d, f in os.walk(SEGMENTED_OUTPUT_DIR)][0]\n",
    "for f in files:\n",
    "    segmented_images.append(Image.open(SEGMENTED_OUTPUT_DIR + f))"
   ]
  },
  {
   "cell_type": "code",
   "execution_count": null,
   "metadata": {},
   "outputs": [
    {
     "ename": "",
     "evalue": "",
     "output_type": "error",
     "traceback": [
      "\u001b[1;31mFailed to start the Kernel. \n",
      "\u001b[1;31mUnable to start Kernel 'erm (Python 3.8.15)' due to connection timeout. \n",
      "\u001b[1;31mView Jupyter <a href='command:jupyter.viewOutput'>log</a> for further details."
     ]
    }
   ],
   "source": [
    "figure(figsize=(18,18))\n",
    "\n",
    "size = len(segmented_images)\n",
    "for i in range(size):\n",
    "    img = segmented_images[i]\n",
    "    plt.subplot(2, size, i + 1)\n",
    "    plt.imshow(img)"
   ]
  },
  {
   "cell_type": "markdown",
   "metadata": {},
   "source": [
    "## Making images bolder to avoid artifacts on resizing"
   ]
  },
  {
   "cell_type": "code",
   "execution_count": null,
   "metadata": {},
   "outputs": [
    {
     "ename": "",
     "evalue": "",
     "output_type": "error",
     "traceback": [
      "\u001b[1;31mFailed to start the Kernel. \n",
      "\u001b[1;31mUnable to start Kernel 'erm (Python 3.8.15)' due to connection timeout. \n",
      "\u001b[1;31mView Jupyter <a href='command:jupyter.viewOutput'>log</a> for further details."
     ]
    }
   ],
   "source": [
    "import cv2\n",
    "import numpy as np\n",
    "\n",
    "files = [f for r, d, f in os.walk(SEGMENTED_OUTPUT_DIR)][0]\n",
    "for f in files:\n",
    "    filename = SEGMENTED_OUTPUT_DIR + f\n",
    "    img = cv2.imread(filename, 0)\n",
    "\n",
    "    kernel = np.ones((2,2), np.uint8)\n",
    "    dilation = cv2.erode(img, kernel, iterations = 1)\n",
    "    cv2.imwrite(filename, dilation)"
   ]
  },
  {
   "cell_type": "markdown",
   "metadata": {},
   "source": [
    "## Converting Segmented Characters to EMNIST format"
   ]
  },
  {
   "cell_type": "code",
   "execution_count": null,
   "metadata": {},
   "outputs": [
    {
     "ename": "",
     "evalue": "",
     "output_type": "error",
     "traceback": [
      "\u001b[1;31mFailed to start the Kernel. \n",
      "\u001b[1;31mUnable to start Kernel 'erm (Python 3.8.15)' due to connection timeout. \n",
      "\u001b[1;31mView Jupyter <a href='command:jupyter.viewOutput'>log</a> for further details."
     ]
    }
   ],
   "source": [
    "def img2emnist(filepath, char_code):\n",
    "    img = Image.open(filepath).resize((28, 28))\n",
    "    inv_img = ImageOps.invert(img)\n",
    "    \n",
    "    flatten = np.array(inv_img).flatten()\n",
    "    flatten = flatten / 255\n",
    "    flatten = np.where(flatten > 0.5, 1, 0)\n",
    "    \n",
    "    csv_img = ','.join([str(num) for num in flatten])\n",
    "    csv_str = '{},{}'.format(char_code, csv_img)\n",
    "    return csv_str"
   ]
  },
  {
   "cell_type": "code",
   "execution_count": null,
   "metadata": {},
   "outputs": [
    {
     "ename": "",
     "evalue": "",
     "output_type": "error",
     "traceback": [
      "\u001b[1;31mFailed to start the Kernel. \n",
      "\u001b[1;31mUnable to start Kernel 'erm (Python 3.8.15)' due to connection timeout. \n",
      "\u001b[1;31mView Jupyter <a href='command:jupyter.viewOutput'>log</a> for further details."
     ]
    }
   ],
   "source": [
    "temp_filename = 'test.csv'\n",
    "if os.path.exists(temp_filename):\n",
    "    os.remove(temp_filename)\n",
    "\n",
    "f_test = open(temp_filename, 'a+')\n",
    "column_names = ','.join([\"label\"] + [\"pixel\" + str(i) for i in range(784)])\n",
    "print(column_names, file=f_test)\n",
    "\n",
    "files = [f for r, d, f in os.walk(SEGMENTED_OUTPUT_DIR)][0]\n",
    "for f in files:\n",
    "    csv = img2emnist(SEGMENTED_OUTPUT_DIR + f, -1)\n",
    "    print(csv, file=f_test)\n",
    "    \n",
    "f_test.close()"
   ]
  },
  {
   "cell_type": "code",
   "execution_count": null,
   "metadata": {},
   "outputs": [
    {
     "ename": "",
     "evalue": "",
     "output_type": "error",
     "traceback": [
      "\u001b[1;31mFailed to start the Kernel. \n",
      "\u001b[1;31mUnable to start Kernel 'erm (Python 3.8.15)' due to connection timeout. \n",
      "\u001b[1;31mView Jupyter <a href='command:jupyter.viewOutput'>log</a> for further details."
     ]
    }
   ],
   "source": [
    "test_df = pd.read_csv(temp_filename)\n",
    "test_df"
   ]
  },
  {
   "cell_type": "markdown",
   "metadata": {},
   "source": [
    "## Character Recognition"
   ]
  },
  {
   "cell_type": "code",
   "execution_count": null,
   "metadata": {},
   "outputs": [
    {
     "ename": "",
     "evalue": "",
     "output_type": "error",
     "traceback": [
      "\u001b[1;31mFailed to start the Kernel. \n",
      "\u001b[1;31mUnable to start Kernel 'erm (Python 3.8.15)' due to connection timeout. \n",
      "\u001b[1;31mView Jupyter <a href='command:jupyter.viewOutput'>log</a> for further details."
     ]
    }
   ],
   "source": [
    "data = pd.read_csv(temp_filename)\n",
    "X_data = data.drop(labels = [\"label\"], axis = 1)\n",
    "X_data = X_data.values.reshape(-1,28,28,1)"
   ]
  },
  {
   "cell_type": "code",
   "execution_count": null,
   "metadata": {},
   "outputs": [
    {
     "ename": "",
     "evalue": "",
     "output_type": "error",
     "traceback": [
      "\u001b[1;31mFailed to start the Kernel. \n",
      "\u001b[1;31mUnable to start Kernel 'erm (Python 3.8.15)' due to connection timeout. \n",
      "\u001b[1;31mView Jupyter <a href='command:jupyter.viewOutput'>log</a> for further details."
     ]
    }
   ],
   "source": [
    "figure(figsize=(14,14))\n",
    "\n",
    "size = X_data.shape[0]\n",
    "for i in range(size):\n",
    "    v = X_data[i][:,:,0].astype('uint8')\n",
    "    img = Image.fromarray(255* v)\n",
    "    \n",
    "    plt.subplot(2, size, i + 1)\n",
    "    plt.imshow(img)"
   ]
  },
  {
   "cell_type": "code",
   "execution_count": null,
   "metadata": {},
   "outputs": [
    {
     "ename": "",
     "evalue": "",
     "output_type": "error",
     "traceback": [
      "\u001b[1;31mFailed to start the Kernel. \n",
      "\u001b[1;31mUnable to start Kernel 'erm (Python 3.8.15)' due to connection timeout. \n",
      "\u001b[1;31mView Jupyter <a href='command:jupyter.viewOutput'>log</a> for further details."
     ]
    }
   ],
   "source": [
    "df = pd.read_csv(mapping_processed)\n",
    "code2char = {}\n",
    "for index, row in df.iterrows():\n",
    "    code2char[row['id']] = row['char']"
   ]
  },
  {
   "cell_type": "code",
   "execution_count": null,
   "metadata": {
    "scrolled": true
   },
   "outputs": [
    {
     "ename": "",
     "evalue": "",
     "output_type": "error",
     "traceback": [
      "\u001b[1;31mFailed to start the Kernel. \n",
      "\u001b[1;31mUnable to start Kernel 'erm (Python 3.8.15)' due to connection timeout. \n",
      "\u001b[1;31mView Jupyter <a href='command:jupyter.viewOutput'>log</a> for further details."
     ]
    }
   ],
   "source": [
    "model = load_model(MODEL_PATH)"
   ]
  },
  {
   "cell_type": "code",
   "execution_count": null,
   "metadata": {
    "scrolled": true
   },
   "outputs": [
    {
     "ename": "",
     "evalue": "",
     "output_type": "error",
     "traceback": [
      "\u001b[1;31mFailed to start the Kernel. \n",
      "\u001b[1;31mUnable to start Kernel 'erm (Python 3.8.15)' due to connection timeout. \n",
      "\u001b[1;31mView Jupyter <a href='command:jupyter.viewOutput'>log</a> for further details."
     ]
    }
   ],
   "source": [
    "# predict results\n",
    "results = model.predict(X_data)\n",
    "\n",
    "# select the index with the maximum probability\n",
    "results = np.argmax(results, axis = 1)\n",
    "parsed_str = \"\"\n",
    "for r in results:\n",
    "    parsed_str += code2char[r]\n",
    "\n",
    "parsed_str"
   ]
  },
  {
   "cell_type": "code",
   "execution_count": null,
   "metadata": {},
   "outputs": [
    {
     "ename": "",
     "evalue": "",
     "output_type": "error",
     "traceback": [
      "\u001b[1;31mFailed to start the Kernel. \n",
      "\u001b[1;31mUnable to start Kernel 'erm (Python 3.8.15)' due to connection timeout. \n",
      "\u001b[1;31mView Jupyter <a href='command:jupyter.viewOutput'>log</a> for further details."
     ]
    }
   ],
   "source": [
    "import re\n",
    "def build_equation(equa):\n",
    "    sSplit = []\n",
    "    operators=[]\n",
    "    temp=\"\"\n",
    "    for i in range(len(equa)):\n",
    "        char=equa[i]\n",
    "        if char==\"*\" or char == \"/\" or char==\"+\" or char==\"-\" or char==\"=\":\n",
    "          sSplit.append(temp)\n",
    "          temp=\"\"\n",
    "          operators.append(char)\n",
    "        else:\n",
    "          temp=temp+char\n",
    "    \n",
    "    if temp!=\"\":\n",
    "      sSplit.append(temp)\n",
    "    # print(operators)\n",
    "    # print(sSplit)\n",
    "    main_ans=\"\"\n",
    "    oper_index=0\n",
    "    for i in range(len(sSplit)):\n",
    "        s_temp=sSplit[i]\n",
    "        i=0;\n",
    "        first_part=\"\"\n",
    "        second_part=\"\"\n",
    "        third_part=\"\"\n",
    "        while i<len(s_temp) and s_temp[i].isnumeric():\n",
    "            first_part=first_part+s_temp[i]\n",
    "            i=i+1\n",
    "        while i<len(s_temp) and not(s_temp[i].isnumeric()):\n",
    "            second_part=second_part+s_temp[i]\n",
    "            i=i+1\n",
    "        while i<len(s_temp) and s_temp[i].isnumeric():\n",
    "            third_part=third_part+s_temp[i]\n",
    "            i=i+1\n",
    "        ans=\"\"\n",
    "        if first_part==\"\":\n",
    "            if second_part==\"\":\n",
    "                ans=third_part\n",
    "            elif third_part==\"\":\n",
    "                ans=second_part\n",
    "            else:\n",
    "                ans=second_part+\" ** \"+third_part\n",
    "        else:\n",
    "              if second_part!=\"\":\n",
    "                if third_part!=\"\":\n",
    "                    ans=first_part+\" * \"+second_part+\" ** \"+third_part+\" \"\n",
    "                else:\n",
    "                    ans = first_part+\" * \"+second_part+\" \"\n",
    "              else:\n",
    "                ans=first_part\n",
    "        main_ans=main_ans+ans\n",
    "        if oper_index<len(operators):\n",
    "          main_ans=main_ans+\" \"+ operators[oper_index]+\" \"\n",
    "          oper_index=oper_index+1\n",
    "    print (main_ans)\n",
    "\n",
    "build_equation(parsed_str)"
   ]
  }
 ],
 "metadata": {
  "kernelspec": {
   "display_name": "Python 3.8.15 ('erm')",
   "language": "python",
   "name": "python3"
  },
  "language_info": {
   "codemirror_mode": {
    "name": "ipython",
    "version": 3
   },
   "file_extension": ".py",
   "mimetype": "text/x-python",
   "name": "python",
   "nbconvert_exporter": "python",
   "pygments_lexer": "ipython3",
   "version": "3.8.15"
  },
  "vscode": {
   "interpreter": {
    "hash": "09a053edacf9f5f1e55f71e6b3f50cc17ce954d01ca730e313270c9fd7dee044"
   }
  }
 },
 "nbformat": 4,
 "nbformat_minor": 2
}
